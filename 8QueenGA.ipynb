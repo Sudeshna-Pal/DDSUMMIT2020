{
  "nbformat": 4,
  "nbformat_minor": 0,
  "metadata": {
    "colab": {
      "name": "8QueenGA.ipynb",
      "provenance": [],
      "collapsed_sections": [],
      "authorship_tag": "ABX9TyPM2BFFc3a1bpOfxc2kXMDw",
      "include_colab_link": true
    },
    "kernelspec": {
      "name": "python3",
      "display_name": "Python 3"
    }
  },
  "cells": [
    {
      "cell_type": "markdown",
      "metadata": {
        "id": "view-in-github",
        "colab_type": "text"
      },
      "source": [
        "<a href=\"https://colab.research.google.com/github/Sudeshna-Pal/DDSUMMIT2020/blob/master/8QueenGA.ipynb\" target=\"_parent\"><img src=\"https://colab.research.google.com/assets/colab-badge.svg\" alt=\"Open In Colab\"/></a>"
      ]
    },
    {
      "cell_type": "code",
      "metadata": {
        "id": "U0cqMHl4U4EQ",
        "colab_type": "code",
        "colab": {
          "base_uri": "https://localhost:8080/",
          "height": 67
        },
        "outputId": "f0ffa678-2975-41d0-9712-2cee40712c15"
      },
      "source": [
        "import random\n",
        "######################## Function to do Mutation of selected gene pool ########\n",
        "def mutation(array):\n",
        "    randomposition = random.randint(0, len(array) - 1)\n",
        "    randomnewvalue = random.randint(0, len(array) - 1)\n",
        "    array[randomposition] = randomnewvalue\n",
        "    return array\n",
        "####################### Function to do Cross Over of selected gene pool #######\n",
        "def crossover(array1, array2):\n",
        "  n1 = len(array1)\n",
        "  c1 = random.randint(0, n1 - 1)\n",
        "  n2 = len(array2)\n",
        "  c2 = random.randint(0, n2 - 1)\n",
        "  return array1[0:c1] + array2[c1:n1], array1[0:c2] + array2[c2:n2]\t\n",
        "####################### Fitness Function to Score Population ##################\n",
        "def getFitness(array):\n",
        "  hclashes = 0\n",
        "  dclashes = 0\n",
        "  for i in range(len(array) - 1):\n",
        "    for j in range(i + 1, len(array)):\n",
        "      if array[i] == array[j]:\n",
        "        hclashes += 1     \n",
        "  for i in range(len(array) - 1):\n",
        "    for j in range(i + 1, len(array)):\n",
        "      if abs(array[j] - array[i]) == abs(j - i):\n",
        "        dclashes += 1\n",
        "  return 28 - hclashes - dclashes  \n",
        "## Define Initial Population and Generate One Correct Solution Sequence #######\n",
        "generation = 0\n",
        "resultset = []\n",
        "dad = []\n",
        "mom = []\n",
        "for i in range(8):\n",
        "    dad.append(random.randint(0, 7))\n",
        "    mom.append(random.randint(0, 7))\n",
        "fitnessdad = getFitness(dad)\n",
        "fitnessmom = getFitness(mom)\n",
        "while fitnessdad != 28 and fitnessmom != 28:\n",
        "  kid1,kid2 = crossover(dad, mom)\n",
        "  kid1 = mutation(kid1)\n",
        "  kid2 = mutation(kid2)\n",
        "  fitnessdad = getFitness(kid1)\n",
        "  fitnessmom = getFitness(kid2)\n",
        "  dad = kid1\n",
        "  mom = kid2\n",
        "  generation += 1\n",
        "if getFitness(dad) == 28:\n",
        "  print (\"Solution\")\n",
        "  print (dad)\n",
        "  print ('Solution found at ' + str(generation) + 'th generation')\n",
        "else:\n",
        "  print (\"Solution\")\n",
        "  print (mom)\n",
        "  print ('Solution found at ' + str(generation) + 'th generation')"
      ],
      "execution_count": 1,
      "outputs": [
        {
          "output_type": "stream",
          "text": [
            "Solution\n",
            "[1, 4, 6, 0, 2, 7, 5, 3]\n",
            "Solution found at 53256th generation\n"
          ],
          "name": "stdout"
        }
      ]
    }
  ]
}